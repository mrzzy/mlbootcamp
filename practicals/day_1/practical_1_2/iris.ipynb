{
 "cells": [
  {
   "cell_type": "markdown",
   "metadata": {},
   "source": [
    "# Practical 1.2 - Iris Flower Classificiation\n",
    "## Introduction\n",
    "In this practical we focus on training classification machine learning models.\n",
    "\n",
    "There are two major types of supervised learning\n",
    "1. Regression - predicting a value given some input\n",
    "2. Classification - predicting the class/label given some input\n",
    "\n",
    "In this practical we focus on classification, specifically classifying different species of Iris flowers:\n",
    "\n",
    "<div class=\"container\" style=\"text-align: center;\">\n",
    "    <img src=\"https://upload.wikimedia.org/wikipedia/commons/thumb/4/41/Iris_versicolor_3.jpg/800px-Iris_versicolor_3.jpg\" width=\"200\"/>\n",
    "    <h4> Iris Versicolor </h4>\n",
    "</div>\n",
    "\n",
    "based on attributes or characteristics of the flowers:\n",
    "- Sepal Length\n",
    "- Sepal Width\n",
    "- Petal Width\n",
    "- Petal Length\n",
    "\n",
    "> In machine learning/data science, we call these characteristics features"
   ]
  },
  {
   "cell_type": "markdown",
   "metadata": {},
   "source": [
    "## Imports"
   ]
  },
  {
   "cell_type": "code",
   "execution_count": 16,
   "metadata": {},
   "outputs": [
    {
     "name": "stdout",
     "output_type": "stream",
     "text": [
      "The autoreload extension is already loaded. To reload it, use:\n",
      "  %reload_ext autoreload\n"
     ]
    }
   ],
   "source": [
    "import matplotlib.pyplot as plt\n",
    "import numpy as np\n",
    "\n",
    "from sklearn import datasets\n",
    "from sklearn.linear_model import LogisticRegression\n",
    "from sklearn.ensemble import RandomForestClassifier\n",
    "from sklearn.model_selection import train_test_split, learning_curve\n",
    "from sklearn.metrics import accuracy_score\n",
    "\n",
    "from mlutils.plot import plot_2d_decison_bounds\n",
    "\n",
    "%matplotlib inline\n",
    "%load_ext autoreload\n",
    "%autoreload 2"
   ]
  },
  {
   "cell_type": "markdown",
   "metadata": {},
   "source": [
    "## Sourcing data\n",
    "Thankfully, the Iris dataset is built into Scikit-learn, making loading it incredibly easy:"
   ]
  },
  {
   "cell_type": "code",
   "execution_count": 3,
   "metadata": {},
   "outputs": [],
   "source": [
    "iris_data = datasets.load_iris()\n",
    "features, species = iris_data[\"data\"], iris_data[\"target\"]"
   ]
  },
  {
   "cell_type": "code",
   "execution_count": 4,
   "metadata": {},
   "outputs": [
    {
     "name": "stdout",
     "output_type": "stream",
     "text": [
      "150 examples, 3 classes/labels in the dataset\n"
     ]
    }
   ],
   "source": [
    "print(f\"{len(features)} examples, {len(np.unique(species))} classes/labels in the dataset\")"
   ]
  },
  {
   "cell_type": "markdown",
   "metadata": {},
   "source": [
    "# Single Feature Models\n",
    "\n",
    "## Prepare data\n",
    "To reiterate the problem: our model has to correctly classify the species given an input feature - in this case we will try using the petal length:\n",
    "\n",
    "TODO: figure out how to explain"
   ]
  },
  {
   "cell_type": "code",
   "execution_count": 5,
   "metadata": {},
   "outputs": [],
   "source": [
    "#TODO:\n",
    "# find the position of the petal features in features list\n",
    "petal_len_pos = iris_data[\"feature_names\"].index(\"petal length (cm)\")\n",
    "# extract out petal length feature\n",
    "petal_lens = features[:, petal_len_pos]"
   ]
  },
  {
   "cell_type": "markdown",
   "metadata": {},
   "source": [
    "To be able to evalaute the model after training, we set aside some data that the model will not see during training, so that we can determine the models performance on **unseen data**. The data that we set aside is called the **validation set**\n",
    "\n",
    "> TODO: Why do we need to shuffle before splitting?\n",
    "> ANS: To ensure that the data in the resulting training and validation sets are not skewed in some way\n",
    "\n",
    "We set aside a validation set as follows:"
   ]
  },
  {
   "cell_type": "code",
   "execution_count": 49,
   "metadata": {},
   "outputs": [],
   "source": [
    "#TODO:\n",
    "# Shuffle than split the data into train and validate subsets\n",
    "train_petal_lens, valid_petal_lens, train_species, valid_species = train_test_split(\n",
    "    petal_lens.reshape((-1, 1)), species, test_size=0.3, shuffle=True, random_state=0)"
   ]
  },
  {
   "cell_type": "markdown",
   "metadata": {},
   "source": [
    "> Why do we need the weird `reshape(...)` call?\n",
    "> This is because scikit-learn expects data in the 'shape' `[example, feature]`. \n",
    "> Our `train_petal_lens` has only one feature (petal length) hence its 'shape' is `[example]`. We change it `[example, 1]` to fullfill the `[example, feature]` criteria"
   ]
  },
  {
   "cell_type": "markdown",
   "metadata": {},
   "source": [
    "## Training the Model\n",
    "We preceed to train a simple logistic regression model on the data. This is quite elementary."
   ]
  },
  {
   "cell_type": "code",
   "execution_count": 50,
   "metadata": {},
   "outputs": [
    {
     "data": {
      "text/plain": [
       "LogisticRegression(C=1.0, class_weight=None, dual=False, fit_intercept=True,\n",
       "                   intercept_scaling=1, l1_ratio=None, max_iter=100,\n",
       "                   multi_class='ovr', n_jobs=None, penalty='none',\n",
       "                   random_state=None, solver='lbfgs', tol=0.0001, verbose=0,\n",
       "                   warm_start=False)"
      ]
     },
     "execution_count": 50,
     "metadata": {},
     "output_type": "execute_result"
    }
   ],
   "source": [
    "# TODO:\n",
    "model= LogisticRegression(multi_class=\"ovr\", solver=\"lbfgs\", penalty='none')\n",
    "model.fit(train_petal_lens.reshape(-1,1), train_species)"
   ]
  },
  {
   "cell_type": "markdown",
   "metadata": {},
   "source": [
    "## Evaluating the Model\n",
    "Now that we have a model, we have to evaluate it see how well its doing.\n",
    "\n",
    "We covered 3 ways to do this is the lecture:\n",
    "1. plotting the model with the to visually examine it\n",
    "   - we can't do this yet because it requires at least two features to do. In this case we only trained the mode on one feature\n",
    "2. Evaluating the model on a metric\n",
    "3. Evaluating the model with a learning curve"
   ]
  },
  {
   "cell_type": "markdown",
   "metadata": {},
   "source": [
    "\n",
    "### Evaluating the model on a loss function.\n",
    "We need a yardstick to help us evaluate if the model is doing well. This yardstick is called the **metric**. \n",
    "\n",
    "We can use the **loss function** as a metric which uses complicated math to compute a number called the **loss** which tells us numerically how we are doing. Generally a smaller **loss** means a better model.\n",
    "\n",
    "However, loss values are not very interpretable (ie is `2.456527248e+2` a good value or bad value?). This calls more interpretable metrics like **accuracy** which is basically the percentage of examples the model classified correctly (ie 68% correct at classifying is way more interpretable). Obviously, the higher the accuracy, the better the model.\n",
    "\n",
    " The accuracy evaluated on the training set is called the **training accuracy**, while the loss evaluated the validation set is called **validation accuracy**\n",
    " - the higher the training accuracy the better the model is at fitting the training data\n",
    " - the higher the validation accuracy, the better model is at generalising to unseen data"
   ]
  },
  {
   "cell_type": "markdown",
   "metadata": {},
   "source": [
    "#### Training Accuracy\n",
    "Computing training accuracy is simple:\n",
    "- use the model to compute predictions on the training data\n",
    "- compute accuracy on the predictions"
   ]
  },
  {
   "cell_type": "code",
   "execution_count": 51,
   "metadata": {},
   "outputs": [
    {
     "name": "stdout",
     "output_type": "stream",
     "text": [
      "training accuracy: 95.23809523809523%\n"
     ]
    }
   ],
   "source": [
    "train_preds = model.predict(train_petal_lens)\n",
    "print(f\"training accuracy: {accuracy_score(train_species, train_preds) * 100.0}%\")"
   ]
  },
  {
   "cell_type": "markdown",
   "metadata": {},
   "source": [
    "#### Validation Accuracy\n",
    "We cross validate the model on the validation set by:\n",
    "- using the model to compute predictions on the validation data\n",
    "- computing accuracy on the prediction\n",
    "\n",
    "> This is important as it allow us to determine if the model actually learnt something, not memorising everything"
   ]
  },
  {
   "cell_type": "code",
   "execution_count": 52,
   "metadata": {},
   "outputs": [
    {
     "name": "stdout",
     "output_type": "stream",
     "text": [
      "validation accuracy: 95.55555555555556%\n"
     ]
    }
   ],
   "source": [
    "valid_preds = model.predict(valid_petal_lens)\n",
    "print(f\"validation accuracy: {accuracy_score(valid_species, valid_preds) * 100.0}%\")"
   ]
  },
  {
   "cell_type": "markdown",
   "metadata": {},
   "source": [
    "### Evaluating using a Learning Curve\n",
    "The learning curve is instrumental tool for training models, because it helps combat 2 of the biggest problems when do machine learning **overfitting** (_high variance_) and **underfitting**(_high bias_). It tells us how to improve the model.\n",
    "\n",
    "To plot a learning curve, we train models with increasing amounts of training data and plot the accuarcy:\n",
    "```python\n",
    "valid_accs = []\n",
    "train_accs = []\n",
    "\n",
    "train_percents = [10, 33, 55, 78, 1]\n",
    "for train_percent in train_percents:\n",
    "    # train the model on increasing amounts of data\n",
    "    n_train = (train_percent / 100.0) * len(train_petal_lens)\n",
    "    model = LogisticRegression()\n",
    "    model.fit(train_petal_lens[:n_train], train_species[:n_train])\n",
    "    \n",
    "    # evaluate model training and validation accuracy\n",
    "    train_preds = model.predict(train_petal_lens)\n",
    "    train_accs.append(accuracy_score(train_species, train_preds) * 100.0)\n",
    "    valid_preds = model.predict(valid_petal_lens)\n",
    "    valid_accs.append(accuracy_score(valid_species, valid_preds) * 100.0)\n",
    "    \n",
    "# plot the learning curve\n",
    "plt.title(\"Learning Curve\")\n",
    "plt.xlabel(\"% training data\")\n",
    "plt.ylabel(\"accuracy\")\n",
    "plt.plot(train_percents, train_accs, label=\"Training\")\n",
    "plt.plot(train_percents, valid_accs, label=\"Validation\")\n",
    "plt.legend()\n",
    "plt.show()\n",
    "```\n",
    "\n",
    "But we run into a problem, because we have very little data, we get different graphs every\n",
    "time we evaluate.\n",
    "Thankfully scikit-learn provides a `learning_curve(...)` learning curve that does not change much.\n",
    "> It does this computing multiple learning curves, we will average them to get a steady learning curve"
   ]
  },
  {
   "cell_type": "code",
   "execution_count": 179,
   "metadata": {},
   "outputs": [
    {
     "data": {
      "image/png": "[encoded data removed]",
      "text/plain": [
       "<Figure size 432x288 with 1 Axes>"
      ]
     },
     "metadata": {
      "needs_background": "light"
     },
     "output_type": "display_data"
    }
   ],
   "source": [
    "n_total_train = len(petal_lens)\n",
    "# compute learning curve stats\n",
    "model = LogisticRegression(multi_class=\"ovr\", solver=\"lbfgs\", penalty='none')\n",
    "\n",
    "def plot_learning_curve(model, inputs, outputs):\n",
    "    # computes 10 learning curves stats\n",
    "    n_trains, train_accs_kfold, valid_accs_kfold = learning_curve(\n",
    "    model, inputs, outputs, cv=10, scoring=\"accuracy\", shuffle=True, \n",
    "        random_state=0)\n",
    "\n",
    "    # compute average learning curve stats\n",
    "    train_percents = 100 * (n_trains /  n_total_train)\n",
    "    train_accs = 100 * np.mean(train_accs_kfold, axis=-1)\n",
    "    valid_accs = 100 * np.mean(valid_accs_kfold, axis=-1)\n",
    "\n",
    "    # plot the learning curve\n",
    "    plt.title(\"Learning Curve\")\n",
    "    plt.xlabel(\"% training data\")\n",
    "    plt.ylabel(\"accuracy\")\n",
    "    plt.plot(train_percents, train_accs, label=\"Training\")\n",
    "    plt.plot(train_percents, valid_accs, label=\"Validation\")\n",
    "    plt.legend()\n",
    "    plt.show()\n",
    "\n",
    "plot_learning_curve(model, petal_lens.reshape((-1, 1)), species)"
   ]
  },
  {
   "cell_type": "markdown",
   "metadata": {},
   "source": [
    "From the curve we can observe that the model giving good performance (>95% accuracy). However, there is space for improvement: it also points us in the direction of how to improve the model. \n",
    "\n",
    "Both the validation and training accuracy are close together. This means that the model is slightly underfitting."
   ]
  },
  {
   "cell_type": "markdown",
   "metadata": {},
   "source": [
    "# Iterate. Iterate. Iterate.\n",
    "Now that we have diagnosed problems with the model is slightly underfitting we can try solutions to underfitting/high bias:\n",
    "- training with more features\n",
    "- training with a more powerful model\n",
    "In this practical we will use a better model to "
   ]
  },
  {
   "cell_type": "markdown",
   "metadata": {},
   "source": [
    "## Building the better model\n",
    "Lets try both solutions at the same time.\n",
    "- When training the first model, we only used one feature: the petal length. Lets try training the model with all the features.\n",
    "- Additonally we use a more powerful model: A `RandomForestClassifier`"
   ]
  },
  {
   "cell_type": "code",
   "execution_count": 266,
   "metadata": {},
   "outputs": [
    {
     "name": "stdout",
     "output_type": "stream",
     "text": [
      "training accuracy: 99.04761904761905%\n",
      "validation accuracy: 97.77777777777777%\n"
     ]
    },
    {
     "data": {
      "image/png": "[encoded data removed]",
      "text/plain": [
       "<Figure size 432x288 with 1 Axes>"
      ]
     },
     "metadata": {
      "needs_background": "light"
     },
     "output_type": "display_data"
    }
   ],
   "source": [
    "# Prepare the data: split train validation set\n",
    "train_features, valid_features, train_species, valid_species = train_test_split(\n",
    "    features, species, test_size=0.3, shuffle=True, random_state=0)\n",
    "\n",
    "# Train the model\n",
    "model = RandomForestClassifier(n_estimators=32, max_depth=4, random_state=0)\n",
    "model.fit(train_features, train_species)\n",
    "\n",
    "# Evaluate the model: accuracy metric \n",
    "train_preds = model.predict(train_features)\n",
    "print(f\"training accuracy: {accuracy_score(train_species, train_preds) * 100.0}%\")\n",
    "\n",
    "valid_preds = model.predict(valid_features)\n",
    "print(f\"validation accuracy: {accuracy_score(valid_species, valid_preds) * 100.0}%\")\n",
    "\n",
    "# Evaluate the model: learning curve\n",
    "model = RandomForestClassifier(n_estimators=42, max_depth=3)\n",
    "plot_learning_curve(model, features, species)"
   ]
  }
 ],
 "metadata": {
  "kernelspec": {
   "display_name": "Python 3",
   "language": "python",
   "name": "python3"
  },
  "language_info": {
   "codemirror_mode": {
    "name": "ipython",
    "version": 3
   },
   "file_extension": ".py",
   "mimetype": "text/x-python",
   "name": "python",
   "nbconvert_exporter": "python",
   "pygments_lexer": "ipython3",
   "version": "3.6.7"
  }
 },
 "nbformat": 4,
 "nbformat_minor": 2
}
