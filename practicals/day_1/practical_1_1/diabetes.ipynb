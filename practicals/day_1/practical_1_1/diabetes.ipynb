{
 "cells": [
  {
   "cell_type": "markdown",
   "metadata": {},
   "source": [
    "# Practical 1.1: Basics of Machine Learning : Diabetes with linear/polynomial regression\n",
    "In this practical, we will be exploring regression in machine learning.\n",
    "\n",
    "Specifically, we will be trying to predict the risk of diabietes for a certain person \n",
    "given attributes (also known as features) of the person such as:\n",
    "- age\n",
    "- sex\n",
    "- BMI\n",
    "\n",
    "## Imports"
   ]
  },
  {
   "cell_type": "code",
   "execution_count": 2,
   "metadata": {},
   "outputs": [],
   "source": [
    "from sklearn import datasets\n",
    "from sklearn.linear_model import LinearRegression, Ridge\n",
    "from sklearn.svm import SVR\n",
    "from sklearn.model_selection import train_test_split\n",
    "from sklearn.metrics import mean_squared_error, r2_score\n",
    "from sklearn.preprocessing import PolynomialFeatures\n",
    "from sklearn.base import clone\n",
    "\n",
    "import numpy as np\n",
    "import pandas as pd\n",
    "import matplotlib.pyplot as plt\n",
    "import seaborn as sns\n",
    "\n",
    "%matplotlib inline"
   ]
  },
  {
   "cell_type": "markdown",
   "metadata": {},
   "source": [
    "## Loading the data\n",
    "The dataset is builtin within scikit-learn, so we load it with:"
   ]
  },
  {
   "cell_type": "code",
   "execution_count": 3,
   "metadata": {},
   "outputs": [
    {
     "name": "stdout",
     "output_type": "stream",
     "text": [
      "442 examples in the dataset\n"
     ]
    }
   ],
   "source": [
    "diabetes = datasets.load_diabetes()\n",
    "examples, diabetes_risks = diabetes['data'], diabetes['target']\n",
    "print(f\"{len(examples)} examples in the dataset\")"
   ]
  },
  {
   "cell_type": "code",
   "execution_count": 4,
   "metadata": {},
   "outputs": [
    {
     "name": "stdout",
     "output_type": "stream",
     "text": [
      "examples shape:(442, 10)\n",
      "no. of examples:442\n",
      "feature per example:10\n"
     ]
    }
   ],
   "source": [
    "print(f\"examples shape:{examples.shape}\")\n",
    "print(f\"no. of examples:{examples.shape[0]}\")\n",
    "print(f\"feature per example:{examples.shape[1]}\")"
   ]
  },
  {
   "cell_type": "markdown",
   "metadata": {},
   "source": [
    "The shape tells us that `examples` is a 2-dimensional numpy array.  \n",
    "This means that you can imagine that `examples` is a table 442 rows (_1st example dimension_) and 10 columns (_2nd feature dimension_).\n",
    "\n",
    "<div style=\"text-align:center\">\n",
    "<b>Think of examples is a 442 by 10 table:</b>\n",
    "</div>\n",
    "\n",
    "| example | Age | Sex | BMI | ... |\n",
    "| --- | --- | --- | --- | --- |\n",
    "| 0 | 16 | M | 34 | ... |\n",
    "| 1 | 14 | F | 24 | ... |\n",
    "| 2  | 42 | M | 124 | ... |\n",
    "| ... | ... | ... | ... | ... |\n",
    "\n",
    "> Each row represents an example in the dataset, while each column represents a feature.\n",
    "\n",
    "\n",
    "Basicaly it means that there are 442 individual examples, and that for each of the  \n",
    "442 examples there are 10 features, which include:\n",
    "- The features include:\n",
    "      - Age\n",
    "      - Sex\n",
    "      - Body mass index\n",
    "      - Average blood pressure\n",
    "      - ...."
   ]
  },
  {
   "cell_type": "markdown",
   "metadata": {},
   "source": [
    "Correspondingly, the dataset also contains `diabeties_risks`.  \n",
    "This is the value that we are trying to predict.\n",
    "Lets take a look at the first ten risks"
   ]
  },
  {
   "cell_type": "code",
   "execution_count": 5,
   "metadata": {},
   "outputs": [
    {
     "data": {
      "text/plain": [
       "array([151.,  75., 141., 206., 135.,  97., 138.,  63., 110., 310.])"
      ]
     },
     "execution_count": 5,
     "metadata": {},
     "output_type": "execute_result"
    }
   ],
   "source": [
    "diabetes_risks[:10]"
   ]
  },
  {
   "cell_type": "markdown",
   "metadata": {},
   "source": [
    "In this task, we will try to use the features (such as BMI) and use them  \n",
    "to predict the diabetes risk using ML model.\n",
    "The prediction target, `diabetes_risks` is a continuous numeric value.  \n",
    "This means that this is a **regression** problem."
   ]
  },
  {
   "cell_type": "markdown",
   "metadata": {},
   "source": [
    "## Training the model\n",
    "### Feeding the data into the model\n",
    "Our intution about health suggets that the higher the persons BMI,  \n",
    "the more unhealthly he/she is. This might mean that they also have  \n",
    "a higher risk of diabetes.\n",
    "\n",
    "First, we need to extract the BMI from the examples.\n",
    "\n",
    "| example | Age | Sex | BMI | ... |\n",
    "| --- | --- | --- | --- | --- |\n",
    "| 0 | 16 | M | 34 | ... |\n",
    "| 1 | 14 | F | 24 | ... |\n",
    "| 2  | 42 | M | 124 | ... |\n",
    "| ... | ... | ... | ... | ... |\n",
    "\n",
    "Normally, doing this using code that does not take advantage of `numpy` looks like this:\n",
    "```python\n",
    "# BMI is the second feature\n",
    "# List indexing starts from 0\n",
    "# Hence BMI feature indexing is 1\n",
    "bmi_idx = 1\n",
    "bmis = []\n",
    "for example in examples:\n",
    "    # example is a list of features\n",
    "    # which contains the BMI we want\n",
    "    bmi = example[bmi_idx]\n",
    "    bmis.append(bmi)\n",
    "```\n",
    "\n",
    "With `numpy` all of that can be shortend into:"
   ]
  },
  {
   "cell_type": "code",
   "execution_count": 6,
   "metadata": {},
   "outputs": [],
   "source": [
    "bmis = examples[:, 2]"
   ]
  },
  {
   "cell_type": "markdown",
   "metadata": {},
   "source": [
    "### Fitting the model\n",
    "Once we have extracted a feature, we can train a **model** to try and fit the data.  \n",
    "For the model, we will use the simplest one: `LinearRegression` is a single, straght line model.  \n",
    "Training the model incrediblely easy with `scikit-learn` models,  \n",
    "just call `.fit()` on the model."
   ]
  },
  {
   "cell_type": "code",
   "execution_count": 7,
   "metadata": {},
   "outputs": [
    {
     "data": {
      "text/plain": [
       "LinearRegression(copy_X=True, fit_intercept=True, n_jobs=None, normalize=False)"
      ]
     },
     "execution_count": 7,
     "metadata": {},
     "output_type": "execute_result"
    }
   ],
   "source": [
    "model = LinearRegression()\n",
    "bmis = bmis.reshape((442, 1))\n",
    "model.fit(bmis, diabetes_risks)"
   ]
  },
  {
   "cell_type": "markdown",
   "metadata": {},
   "source": [
    "> `.reshape(442, 1)` reshapes the 442 elements to 442 rows & 1 column  \n",
    "> This is because Scikit-learn expects data in the 'shape' [example, feature],  \n",
    "> a 2D array instead of a 1D array.  "
   ]
  },
  {
   "cell_type": "markdown",
   "metadata": {},
   "source": [
    "### Predicting using the model\n",
    "Once we have trained the model, we can obtain predictions from the model using `.predict()`:"
   ]
  },
  {
   "cell_type": "code",
   "execution_count": 8,
   "metadata": {},
   "outputs": [
    {
     "name": "stdout",
     "output_type": "stream",
     "text": [
      "bmi input:[[ 0.06169621]\n",
      " [-0.05147406]\n",
      " [ 0.04445121]]\n",
      "diabeties output:[210.71003806 103.26219543 194.33703347]\n"
     ]
    }
   ],
   "source": [
    "try_bmis = bmis[:3]\n",
    "print(f\"bmi input:{try_bmis}\")\n",
    "try_risks = model.predict(try_bmis)\n",
    "print(f\"diabeties output:{try_risks}\")"
   ]
  },
  {
   "cell_type": "markdown",
   "metadata": {},
   "source": [
    "## Evaluating the Model\n",
    "We can train our model, but we do not how it performs on unseen data.\\\n",
    "\n",
    "\n",
    "### Cross Validation dataset split\n",
    "Actually we forgot to do something before training the model:  \n",
    "we have to split the dataset into **train** and **validate** sets:\n",
    "- we train on the training set\n",
    "- we _cross validate_ or check the models performance on unseen data on the validation set.\n",
    "\n",
    "Using the `Scikit-Learn`'s built in `train_test_split()` function,  \n",
    "we can do this easily. We prefix `train_` or `valid_` to help us determine  \n",
    "whether they belong to the _training_ of _validation_ sets respectively:"
   ]
  },
  {
   "cell_type": "code",
   "execution_count": 9,
   "metadata": {},
   "outputs": [],
   "source": [
    "train_bmis, valid_bmis, train_risks, valid_risks = train_test_split(\n",
    "    bmis, diabetes_risks, \n",
    "    test_size=0.3, \n",
    "    shuffle=True,\n",
    "    random_state=0)"
   ]
  },
  {
   "cell_type": "markdown",
   "metadata": {},
   "source": [
    "> `train_test_split` returns 4 values, so we have 4 variables to store each of these values.  \n",
    "> `test_size=0.3` - sets 30% of the data as test set and the remainding 70% as train set.  \n",
    "> `shuffle=True` - tells it to shuffle the data before splitting"
   ]
  },
  {
   "cell_type": "markdown",
   "metadata": {},
   "source": [
    "We can now proceed to train the model as usual:"
   ]
  },
  {
   "cell_type": "code",
   "execution_count": 10,
   "metadata": {},
   "outputs": [
    {
     "data": {
      "text/plain": [
       "LinearRegression(copy_X=True, fit_intercept=True, n_jobs=None, normalize=False)"
      ]
     },
     "execution_count": 10,
     "metadata": {},
     "output_type": "execute_result"
    }
   ],
   "source": [
    "model = LinearRegression()\n",
    "model.fit(train_bmis, train_risks)"
   ]
  },
  {
   "cell_type": "markdown",
   "metadata": {},
   "source": [
    "### Evaluting with Metrics\n",
    "**Metrics** help you evaluate how we your model is doing by providing a numeric  \n",
    "judgement of your models performance. The loss function is a example of a metric:  \n",
    "the lower the value, the better the model\n",
    "\n",
    "> We prefix the metric with the name of the set of data that the model for example  \n",
    "> the loss function evaluate on the validation set is called the **validation loss**"
   ]
  },
  {
   "cell_type": "code",
   "execution_count": 11,
   "metadata": {},
   "outputs": [
    {
     "name": "stdout",
     "output_type": "stream",
     "text": [
      "training mean squared error: 3892.7208150824304\n",
      "validation mean squared error: 3921.3720274248517\n"
     ]
    }
   ],
   "source": [
    "# training loss\n",
    "pred_risks = model.predict(train_bmis)\n",
    "train_mse = mean_squared_error(train_risks, pred_risks)\n",
    "print(f'training mean squared error: {train_mse}')\n",
    "\n",
    "# validation loss\n",
    "pred_risks = model.predict(valid_bmis)\n",
    "valid_mse = mean_squared_error(valid_risks, pred_risks)\n",
    "print(f'validation mean squared error: {valid_mse}')"
   ]
  },
  {
   "cell_type": "markdown",
   "metadata": {},
   "source": [
    "However, loss values are not very interpretable (ie is `3563.17..` a good value or bad value?).  \n",
    "This calls more interpretable metrics like the **$r^2$ score**, which in simple terms  \n",
    "measures how well your model fits the variation of the data.\n",
    "\n",
    "$r^2$  _normally_ ranges from 0.0 to 1.0, with a higher score meaning  \n",
    "that the model is better at fitting the data.\n",
    ">$r^2$ may become negative if your model is especially terrible at fitting the data"
   ]
  },
  {
   "cell_type": "code",
   "execution_count": 12,
   "metadata": {},
   "outputs": [
    {
     "name": "stdout",
     "output_type": "stream",
     "text": [
      "training r2: 0.3807751933514646\n",
      "validation r2: 0.23132831307953805\n"
     ]
    }
   ],
   "source": [
    "# training r2\n",
    "pred_risks = model.predict(train_bmis)\n",
    "train_r2 = r2_score(train_risks, pred_risks)\n",
    "print(f'training r2: {train_r2}')\n",
    "\n",
    "# validation r2\n",
    "pred_risks = model.predict(valid_bmis)\n",
    "valid_r2 = r2_score(valid_risks, pred_risks)\n",
    "print(f'validation r2: {valid_r2}')"
   ]
  },
  {
   "cell_type": "markdown",
   "metadata": {},
   "source": [
    "### Evaluating with Visualisation\n",
    "Another way we can evaluate the model is plot it out with the data to see well the model fits the data.  \n",
    "This evaluation method is only suitable for simple models, such as the `LinearRegression` model we  \n",
    "are currently using."
   ]
  },
  {
   "cell_type": "code",
   "execution_count": 13,
   "metadata": {},
   "outputs": [
    {
     "data": {
      "text/plain": [
       "<matplotlib.legend.Legend at 0x7f874bd02128>"
      ]
     },
     "execution_count": 13,
     "metadata": {},
     "output_type": "execute_result"
    },
    {
     "data": {
      "image/png": "[encoded data removed]",
      "text/plain": [
       "<Figure size 432x288 with 1 Axes>"
      ]
     },
     "metadata": {
      "needs_background": "light"
     },
     "output_type": "display_data"
    }
   ],
   "source": [
    "pred_risks = model.predict(bmis)\n",
    "plt.plot(train_bmis, train_risks, '.', label='Training data')\n",
    "plt.plot(valid_bmis, valid_risks, 'x', label='Validation data')\n",
    "plt.plot(bmis, pred_risks, '-', label='Model')\n",
    "\n",
    "plt.xlabel('BMIs (Scaled)')\n",
    "plt.ylabel('Risk of Diabetes')\n",
    "\n",
    "plt.legend()"
   ]
  },
  {
   "cell_type": "markdown",
   "metadata": {},
   "source": [
    "#### Evaluating with Learning Curves\n",
    "One final but instrumental way to evaluate your model is by learning curve.  \n",
    "A learning curve is basically a plot of training and validation metrics as the amount   of training increases.\n",
    "> we can control the amount of training the model recieves by limiting the \n",
    "> amount of training data that the model can train on.\n",
    "\n",
    "We plot the learning as follows:"
   ]
  },
  {
   "cell_type": "code",
   "execution_count": 14,
   "metadata": {},
   "outputs": [
    {
     "data": {
      "image/png": "[encoded data removed]",
      "text/plain": [
       "<Figure size 432x288 with 1 Axes>"
      ]
     },
     "metadata": {
      "needs_background": "light"
     },
     "output_type": "display_data"
    }
   ],
   "source": [
    "def plot_learning_curve(orig_model, train_ins, train_outs, valid_ins, valid_outs):\n",
    "    # save the scores for plotting the learning curve laterff\n",
    "    train_scores = []\n",
    "    valid_scores = []\n",
    "\n",
    "    for i in np.arange(0.1, 1.1, 0.1):\n",
    "        train_size = int(442 * i)\n",
    "        X_train = train_ins[:train_size]\n",
    "        X_valid = valid_ins\n",
    "        y_train = train_outs[:train_size]\n",
    "        y_valid = valid_outs\n",
    "\n",
    "        model = clone(orig_model)\n",
    "        model.fit(X_train, y_train)\n",
    "        y_train_pred = model.predict(X_train)\n",
    "        y_valid_pred = model.predict(X_valid)\n",
    "\n",
    "        train_r2 = r2_score(y_train, y_train_pred)\n",
    "        valid_r2 = r2_score(y_valid, y_valid_pred)\n",
    "\n",
    "        train_scores.append(train_r2)\n",
    "        valid_scores.append(valid_r2)\n",
    "\n",
    "    plt.plot(train_scores)\n",
    "    plt.plot(valid_scores)\n",
    "    \n",
    "    plt.title(\"Learning curve\")\n",
    "    plt.ylabel('r2 score')\n",
    "    plt.xlabel('% of Training Size')\n",
    "    plt.xticks(range(10), (np.arange(0.1, 1.1, 0.1) * 100).astype(int))\n",
    "    plt.ylim(0.0, 1.0) # limit r2 score axis to 0.0 to 1\n",
    "    plt.legend(['Train', 'Validation'])\n",
    "\n",
    "\n",
    "plot_learning_curve(LinearRegression(), \n",
    "                    train_bmis, train_risks, \n",
    "                    valid_bmis, valid_risks)"
   ]
  },
  {
   "cell_type": "markdown",
   "metadata": {},
   "source": [
    "From the learning curve, we can infer that the model is **underfitting** as both the   \n",
    "training and validation $r^2$ scores are low. We learn from the lecture that ways\n",
    "to combat underfitting include:\n",
    "- using a more powerful model\n",
    "- using more or create better features to feed into your modle"
   ]
  },
  {
   "cell_type": "markdown",
   "metadata": {},
   "source": [
    "## Iterate. Iterate. Iterate.\n",
    "So far, we have only trained the model on one feature: BMI.\n",
    "Since, the model is underfitting, we can try to fit the model with all the features in the dataset.  \n",
    "We will also use another, more powerful model: the SVM, to combat underfitting."
   ]
  },
  {
   "cell_type": "code",
   "execution_count": 99,
   "metadata": {},
   "outputs": [
    {
     "data": {
      "text/plain": [
       "SVR(C=900.0, cache_size=200, coef0=0.0, degree=3, epsilon=0.1, gamma=0.1,\n",
       "    kernel='rbf', max_iter=-1, shrinking=True, tol=0.001, verbose=False)"
      ]
     },
     "execution_count": 99,
     "metadata": {},
     "output_type": "execute_result"
    }
   ],
   "source": [
    "# split train validation sets\n",
    "train_examples, valid_examples, train_risks, valid_risks = train_test_split(\n",
    "    examples, diabetes_risks, \n",
    "    test_size=0.3, \n",
    "    shuffle=True,\n",
    "    random_state=0)\n",
    "\n",
    "# train the model us usual\n",
    "model = SVR(C=9e+2, kernel='rbf', gamma=1e-1)\n",
    "model.fit(train_examples, train_risks)"
   ]
  },
  {
   "cell_type": "markdown",
   "metadata": {},
   "source": [
    "### Evaluate with Metrics\n",
    "We evaluate the model with $r^2$ score metric."
   ]
  },
  {
   "cell_type": "code",
   "execution_count": 104,
   "metadata": {},
   "outputs": [
    {
     "name": "stdout",
     "output_type": "stream",
     "text": [
      "training r2 score: 0.5351589949035742\n",
      "validation r2 score : 0.413448808993364\n"
     ]
    }
   ],
   "source": [
    "# training loss\n",
    "pred_risks = model.predict(train_examples)\n",
    "train_r2 = r2_score(train_risks, pred_risks)\n",
    "print(f'training r2 score: {train_r2}')\n",
    "\n",
    "# validation loss\n",
    "pred_risks = model.predict(valid_examples)\n",
    "valid_r2 = r2_score(valid_risks, pred_risks)\n",
    "print(f'validation r2 score : {valid_r2}')"
   ]
  },
  {
   "cell_type": "code",
   "execution_count": 106,
   "metadata": {},
   "outputs": [
    {
     "data": {
      "text/plain": [
       "{'C': 900.0,\n",
       " 'cache_size': 200,\n",
       " 'coef0': 0.0,\n",
       " 'degree': 3,\n",
       " 'epsilon': 0.1,\n",
       " 'gamma': 0.1,\n",
       " 'kernel': 'rbf',\n",
       " 'max_iter': -1,\n",
       " 'shrinking': True,\n",
       " 'tol': 0.001,\n",
       " 'verbose': False}"
      ]
     },
     "execution_count": 106,
     "metadata": {},
     "output_type": "execute_result"
    }
   ],
   "source": [
    "model.get_params()"
   ]
  },
  {
   "cell_type": "markdown",
   "metadata": {},
   "source": [
    "### Evaluate with Learning Curve\n",
    "We evaluate our model with a learning curve"
   ]
  },
  {
   "cell_type": "code",
   "execution_count": 206,
   "metadata": {},
   "outputs": [
    {
     "data": {
      "image/png": "[encoded data removed]",
      "text/plain": [
       "<Figure size 432x288 with 1 Axes>"
      ]
     },
     "metadata": {
      "needs_background": "light"
     },
     "output_type": "display_data"
    }
   ],
   "source": [
    "plot_learning_curve(SVR(C=9e+2, kernel='rbf', gamma=1e-1),\n",
    "                    train_examples, train_risks,\n",
    "                    valid_examples, valid_risks)"
   ]
  }
 ],
 "metadata": {
  "kernelspec": {
   "display_name": "Python 3",
   "language": "python",
   "name": "python3"
  },
  "language_info": {
   "codemirror_mode": {
    "name": "ipython",
    "version": 3
   },
   "file_extension": ".py",
   "mimetype": "text/x-python",
   "name": "python",
   "nbconvert_exporter": "python",
   "pygments_lexer": "ipython3",
   "version": "3.6.7"
  }
 },
 "nbformat": 4,
 "nbformat_minor": 2
}
