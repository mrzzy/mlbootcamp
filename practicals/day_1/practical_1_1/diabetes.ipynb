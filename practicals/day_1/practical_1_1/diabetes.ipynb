{
 "cells": [
  {
   "cell_type": "markdown",
   "metadata": {},
   "source": [
    "# Practical 1.1: Basics of Machine Learning : Diabetes with linear/polynomial regression\n",
    "In this practical, we will be exploring regression in machine learning.\n",
    "We are trying to predict the risks of diabetes given the age, sex &\n",
    "\n",
    "## Imports"
   ]
  },
  {
   "cell_type": "code",
   "execution_count": 157,
   "metadata": {},
   "outputs": [],
   "source": [
    "from sklearn import datasets\n",
    "from sklearn.linear_model import LinearRegression, Ridge\n",
    "from sklearn.model_selection import train_test_split\n",
    "from sklearn.metrics import mean_squared_error\n",
    "from sklearn.preprocessing import PolynomialFeatures\n",
    "\n",
    "import numpy as np\n",
    "import matplotlib.pyplot as plt"
   ]
  },
  {
   "cell_type": "markdown",
   "metadata": {},
   "source": [
    "## Loading the data\n",
    "The dataset is built within scikit-learn, so we load it with:"
   ]
  },
  {
   "cell_type": "code",
   "execution_count": 158,
   "metadata": {},
   "outputs": [
    {
     "name": "stdout",
     "output_type": "stream",
     "text": [
      "442 examples in the dataset\n"
     ]
    }
   ],
   "source": [
    "diabetes = datasets.load_diabetes()\n",
    "features, diabetes_risks = diabetes['data'], diabetes['target']\n",
    "print(f\"{len(features)} examples in the dataset\")"
   ]
  },
  {
   "cell_type": "markdown",
   "metadata": {},
   "source": [
    "Let's examine the shape of features.  \n",
    "The term \"shape\" describes the dimensions of the numpy array"
   ]
  },
  {
   "cell_type": "code",
   "execution_count": 159,
   "metadata": {},
   "outputs": [
    {
     "data": {
      "text/plain": [
       "(442, 10)"
      ]
     },
     "execution_count": 159,
     "metadata": {},
     "output_type": "execute_result"
    }
   ],
   "source": [
    "features.shape"
   ]
  },
  {
   "cell_type": "markdown",
   "metadata": {},
   "source": [
    "The shape tells us that `features` is a 2-dimensional numpy array. This means that you can imagine that `features` is a table 442 rows (_1st dimension_) and 10 columns (_2nd dimension_).\n",
    "\n",
    "<div style=\"text-align:center\">\n",
    "<b>features is a 442 by 10 table</b>\n",
    "</div>\n",
    "\n",
    "| row no. | Age | Sex | BMI | ... |\n",
    "| --- | --- | --- | --- | --- |\n",
    "| 1 | 16 | M | 34 | ... |\n",
    "| 2 | 14 | F | 24 | ... |\n",
    "| 3  | 42 | M | 124 | ... |\n",
    "| ... | ... | ... | ... | ... |\n",
    "\n",
    "Each row represents an example in the dataset, while each column represents a feature.\n",
    "\n",
    "\n",
    "This means that for each example there are 10 features, which include:\n",
    "- The features include:\n",
    "      - Age\n",
    "      - Sex\n",
    "      - Body mass index\n",
    "      - Average blood pressure\n",
    "      - ...."
   ]
  },
  {
   "cell_type": "markdown",
   "metadata": {},
   "source": [
    "Correspondingly, the dataset also contains `diabeties_risks`.\n",
    "This is the value that we are trying to predict.\n",
    "We can random select 10 of them to take a look:"
   ]
  },
  {
   "cell_type": "code",
   "execution_count": 160,
   "metadata": {},
   "outputs": [
    {
     "data": {
      "text/plain": [
       "array([171.,  52., 248.,  99., 200., 128., 275., 141.,  75.,  71.])"
      ]
     },
     "execution_count": 160,
     "metadata": {},
     "output_type": "execute_result"
    }
   ],
   "source": [
    "diabetes_risks[np.random.randint(0, 442, size=10)]"
   ]
  },
  {
   "cell_type": "markdown",
   "metadata": {},
   "source": [
    "In this task, we will try to use the features (such as BMI) and  use to predict the diabetes risk using ML model."
   ]
  },
  {
   "cell_type": "markdown",
   "metadata": {},
   "source": [
    "## Training the model\n",
    "Let's see how BMI predicts the risk of diabetes\n",
    "\n",
    "1. First we extract the BMIs from the data\n",
    "    - Feature \"bmi\" is located in the 3rd column.\n",
    "    - To get all of the elements, we use [ : ].\n",
    "    - To select 3rd column, we specify [ : , 2 ]."
   ]
  },
  {
   "cell_type": "code",
   "execution_count": 161,
   "metadata": {},
   "outputs": [
    {
     "data": {
      "text/plain": [
       "(442,)"
      ]
     },
     "execution_count": 161,
     "metadata": {},
     "output_type": "execute_result"
    }
   ],
   "source": [
    "bmis = features[:, 2]\n",
    "bmis.shape"
   ]
  },
  {
   "cell_type": "markdown",
   "metadata": {},
   "source": [
    "2. Train a Linear Regression model\n",
    "    - Create a model\n",
    "    - Fit using the data"
   ]
  },
  {
   "cell_type": "code",
   "execution_count": 162,
   "metadata": {},
   "outputs": [
    {
     "data": {
      "text/plain": [
       "LinearRegression(copy_X=True, fit_intercept=True, n_jobs=None, normalize=False)"
      ]
     },
     "execution_count": 162,
     "metadata": {},
     "output_type": "execute_result"
    }
   ],
   "source": [
    "model = LinearRegression()\n",
    "model.fit(bmis.reshape((442, 1)), diabetes_risks)"
   ]
  },
  {
   "cell_type": "markdown",
   "metadata": {},
   "source": [
    "> `.reshape(442, 1)` reshapes the 442 elements   \n",
    "> from 1 single column to 442 rows & 1 column\n",
    "\n",
    "> This is because Scikit-learn expects data in the 'shape' [example, feature], a 2D array instead of a 1D array.  \n",
    "> Each column represent a feature.   \n",
    "> Since we have 1 feature, we have 1 column."
   ]
  },
  {
   "cell_type": "markdown",
   "metadata": {},
   "source": [
    "## Evaluating the Model\n",
    "We can train our model, but we do not how it performs on unseen data.   \n",
    "Thus, before we can train our model, we have to split the dataset.  \n",
    "The dataset is split into train set (data to train the model) and test set (data (unseen) to test the model)."
   ]
  },
  {
   "cell_type": "code",
   "execution_count": 163,
   "metadata": {},
   "outputs": [],
   "source": [
    "bmis_train, bmis_test, risks_train, risks_test = train_test_split(\n",
    "    bmis.reshape((442, 1)), diabetes_risks, \n",
    "    test_size=0.3, \n",
    "    shuffle=True,\n",
    "    random_state=56)"
   ]
  },
  {
   "cell_type": "markdown",
   "metadata": {},
   "source": [
    "> `train_test_split` returns 4 values, so we have 4 variables to store each of these values.  \n",
    "> `test_size=0.3` - sets 30% of the data as test set and the remainding 70% as train set.  \n",
    "> `shuffle=True` - tells it to shuffle the data before splitting"
   ]
  },
  {
   "cell_type": "markdown",
   "metadata": {},
   "source": [
    "2. Train a Linear Regression model\n",
    "    - Re-create the model\n",
    "    - Fit using the training data"
   ]
  },
  {
   "cell_type": "code",
   "execution_count": 164,
   "metadata": {},
   "outputs": [
    {
     "data": {
      "text/plain": [
       "LinearRegression(copy_X=True, fit_intercept=True, n_jobs=None, normalize=False)"
      ]
     },
     "execution_count": 164,
     "metadata": {},
     "output_type": "execute_result"
    }
   ],
   "source": [
    "model = LinearRegression()\n",
    "model.fit(bmis_train, risks_train)"
   ]
  },
  {
   "cell_type": "markdown",
   "metadata": {},
   "source": [
    "3. Get predictions from the model"
   ]
  },
  {
   "cell_type": "code",
   "execution_count": 165,
   "metadata": {},
   "outputs": [],
   "source": [
    "risks_predict = model.predict(bmis_test)"
   ]
  },
  {
   "cell_type": "markdown",
   "metadata": {},
   "source": [
    "4. Evaluate the model from it's predictions"
   ]
  },
  {
   "cell_type": "code",
   "execution_count": 166,
   "metadata": {},
   "outputs": [
    {
     "name": "stdout",
     "output_type": "stream",
     "text": [
      "This model has a mean squared error of 3563.1714710436554 in it's test set\n"
     ]
    }
   ],
   "source": [
    "mse_test = mean_squared_error(risks_predict, risks_test)\n",
    "print(f'This model has a mean squared error of {mse_test} in it\\'s test set')"
   ]
  },
  {
   "cell_type": "code",
   "execution_count": 167,
   "metadata": {},
   "outputs": [
    {
     "name": "stdout",
     "output_type": "stream",
     "text": [
      "On the other hand, the model has a mean squared error of 4033.5061345568174 in it's train set\n"
     ]
    }
   ],
   "source": [
    "risks_predict_train = model.predict(bmis_train)\n",
    "mse_train = mean_squared_error(risks_predict_train, risks_train)\n",
    "print(f'On the other hand, the model has a mean squared error of {mse_train} in it\\'s train set')"
   ]
  },
  {
   "cell_type": "markdown",
   "metadata": {},
   "source": [
    "5. Visualise the model"
   ]
  },
  {
   "cell_type": "code",
   "execution_count": 168,
   "metadata": {},
   "outputs": [
    {
     "data": {
      "image/png": "[encoded data removed]",
      "text/plain": [
       "<Figure size 432x288 with 1 Axes>"
      ]
     },
     "metadata": {
      "needs_background": "light"
     },
     "output_type": "display_data"
    }
   ],
   "source": [
    "plt.plot(bmis_train, risks_train, '.', label='Train Set')\n",
    "plt.plot(bmis_test, risks_test, '.', label='Test Set')\n",
    "plt.plot(bmis_train, risks_predict_train, '-', label='Model')\n",
    "\n",
    "plt.xlabel('BMIs (Scaled)')\n",
    "plt.ylabel('Risk of Diabetes')\n",
    "\n",
    "plt.legend()"
   ]
  },
  {
   "cell_type": "markdown",
   "metadata": {},
   "source": [
    "6. Plot learning curves"
   ]
  },
  {
   "cell_type": "code",
   "execution_count": 169,
   "metadata": {},
   "outputs": [
    {
     "data": {
      "text/plain": [
       "<matplotlib.legend.Legend at 0x1055b70>"
      ]
     },
     "execution_count": 169,
     "metadata": {},
     "output_type": "execute_result"
    },
    {
     "data": {
      "image/png": "[encoded data removed]",
      "text/plain": [
       "<Figure size 432x288 with 1 Axes>"
      ]
     },
     "metadata": {
      "needs_background": "light"
     },
     "output_type": "display_data"
    }
   ],
   "source": [
    "train_scores = []\n",
    "test_scores = []\n",
    "\n",
    "for i in np.arange(0.1, 1.1, 0.1):\n",
    "    # 442 can be substituted for len(X_train)\n",
    "    train_size = int(442 * i)\n",
    "    # print(f\"{train_size}\")\n",
    "    X_train = bmis_train[:train_size]\n",
    "    X_test = bmis_test\n",
    "    y_train = risks_train[:train_size]\n",
    "    y_test = risks_test\n",
    "\n",
    "    model = LinearRegression()\n",
    "    model.fit(X_train, y_train)\n",
    "    y_train_pred = model.predict(X_train)\n",
    "    y_test_pred = model.predict(X_test)\n",
    "    \n",
    "    train_mse = mean_squared_error(y_train_pred, y_train)\n",
    "    test_mse = mean_squared_error(y_test_pred, y_test)\n",
    "    \n",
    "    train_scores.append(train_mse)\n",
    "    test_scores.append(test_mse)\n",
    "    \n",
    "plt.plot(train_scores)\n",
    "plt.plot(test_scores)\n",
    "\n",
    "plt.ylabel('Mean Squared Error of Diabetes')\n",
    "plt.xlabel('% of Training Size')\n",
    "\n",
    "plt.xticks(range(10), (np.arange(0.1, 1.1, 0.1) * 100).astype(int))\n",
    "\n",
    "plt.legend(['Train', 'Test'])"
   ]
  },
  {
   "cell_type": "markdown",
   "metadata": {},
   "source": [
    "## Iterate\n",
    "Now let's try with Polynomial Regression"
   ]
  },
  {
   "cell_type": "markdown",
   "metadata": {},
   "source": [
    "1. Create more features from feature \"age\""
   ]
  },
  {
   "cell_type": "code",
   "execution_count": 170,
   "metadata": {},
   "outputs": [],
   "source": [
    "poly_features = PolynomialFeatures(degree=5)\n",
    "bmis_poly = poly_features.fit_transform(bmis.reshape((442,1)))"
   ]
  },
  {
   "cell_type": "markdown",
   "metadata": {},
   "source": [
    "2. Split into train & test set"
   ]
  },
  {
   "cell_type": "code",
   "execution_count": 171,
   "metadata": {},
   "outputs": [],
   "source": [
    "bmis_train, bmis_test, risks_train, risks_test = train_test_split(\n",
    "    bmis_poly, diabetes_risks,\n",
    "    test_size=0.3,\n",
    "    shuffle=True,\n",
    "    random_state=56\n",
    ")"
   ]
  },
  {
   "cell_type": "markdown",
   "metadata": {},
   "source": [
    "3. Train a Polynomial Regression Model\n",
    "    - Re-create the model\n",
    "    - Fit using the data"
   ]
  },
  {
   "cell_type": "code",
   "execution_count": 172,
   "metadata": {},
   "outputs": [
    {
     "data": {
      "text/plain": [
       "LinearRegression(copy_X=True, fit_intercept=True, n_jobs=None, normalize=False)"
      ]
     },
     "execution_count": 172,
     "metadata": {},
     "output_type": "execute_result"
    }
   ],
   "source": [
    "model = LinearRegression()\n",
    "model.fit(bmis_train, risks_train)"
   ]
  },
  {
   "cell_type": "markdown",
   "metadata": {},
   "source": [
    "4. Get predictions from the model"
   ]
  },
  {
   "cell_type": "code",
   "execution_count": 173,
   "metadata": {},
   "outputs": [],
   "source": [
    "risks_predict_train = model.predict(bmis_train)\n",
    "risks_predict_test = model.predict(bmis_test)"
   ]
  },
  {
   "cell_type": "markdown",
   "metadata": {},
   "source": [
    "5. Evaluate the model from it's predictions"
   ]
  },
  {
   "cell_type": "code",
   "execution_count": 174,
   "metadata": {},
   "outputs": [
    {
     "name": "stdout",
     "output_type": "stream",
     "text": [
      "Train MSE: 4017.402652194019\n",
      "Test MSE: 3501.6009676913254\n"
     ]
    }
   ],
   "source": [
    "mse_train = mean_squared_error(risks_predict_train, risks_train)\n",
    "mse_test = mean_squared_error(risks_predict_test, risks_test)\n",
    "\n",
    "print('Train MSE:', mse_train)\n",
    "print('Test MSE:', mse_test)"
   ]
  },
  {
   "cell_type": "markdown",
   "metadata": {},
   "source": [
    "5. Visualise the model"
   ]
  },
  {
   "cell_type": "code",
   "execution_count": 175,
   "metadata": {},
   "outputs": [
    {
     "data": {
      "text/plain": [
       "<matplotlib.legend.Legend at 0x53ce950>"
      ]
     },
     "execution_count": 175,
     "metadata": {},
     "output_type": "execute_result"
    },
    {
     "data": {
      "image/png": "[encoded data removed]",
      "text/plain": [
       "<Figure size 432x288 with 1 Axes>"
      ]
     },
     "metadata": {
      "needs_background": "light"
     },
     "output_type": "display_data"
    }
   ],
   "source": [
    "plt.plot(bmis_train[:,1], risks_train, '.')\n",
    "plt.plot(bmis_test[:,1], risks_test, '.')\n",
    "plt.plot(bmis_train[:,1], risks_predict_train, '.')\n",
    "\n",
    "plt.xlabel('BMIs (Scaled)')\n",
    "plt.ylabel('Risk of Diabetes')\n",
    "\n",
    "plt.legend(['Train set', 'Test set', 'Prediction'])"
   ]
  },
  {
   "cell_type": "markdown",
   "metadata": {},
   "source": [
    "6. Plot learning curves"
   ]
  },
  {
   "cell_type": "code",
   "execution_count": 176,
   "metadata": {},
   "outputs": [
    {
     "data": {
      "text/plain": [
       "<matplotlib.legend.Legend at 0x5405d10>"
      ]
     },
     "execution_count": 176,
     "metadata": {},
     "output_type": "execute_result"
    },
    {
     "data": {
      "image/png": "[encoded data removed]",
      "text/plain": [
       "<Figure size 432x288 with 1 Axes>"
      ]
     },
     "metadata": {
      "needs_background": "light"
     },
     "output_type": "display_data"
    }
   ],
   "source": [
    "train_scores = []\n",
    "test_scores = []\n",
    "\n",
    "for i in np.arange(0.1, 1.1, 0.1):\n",
    "    # 442 can be substituted for len(X_train)\n",
    "    train_size = int(442 * i)\n",
    "    X_train = bmis_train[:train_size]\n",
    "    X_test = bmis_test\n",
    "    y_train = risks_train[:train_size]\n",
    "    y_test = risks_test\n",
    "\n",
    "    model = LinearRegression()\n",
    "    model.fit(X_train, y_train)\n",
    "    y_train_pred = model.predict(X_train)\n",
    "    y_test_pred = model.predict(X_test)\n",
    "    \n",
    "    train_mse = mean_squared_error(y_train_pred, y_train)\n",
    "    test_mse = mean_squared_error(y_test_pred, y_test)\n",
    "    \n",
    "    train_scores.append(train_mse)\n",
    "    test_scores.append(test_mse)\n",
    "    \n",
    "plt.plot(train_scores, label=\"Train Loss\")\n",
    "plt.plot(test_scores, label=\"Test Loss\")\n",
    "\n",
    "plt.ylabel('Mean Squared Error of Diabetes')\n",
    "plt.xlabel('% of Training Size')\n",
    "\n",
    "plt.xticks(range(10), (np.arange(0.1, 1.1, 0.1) * 100).astype(int))\n",
    "plt.ylim(2500, 5000)\n",
    "\n",
    "plt.legend()"
   ]
  },
  {
   "cell_type": "markdown",
   "metadata": {},
   "source": [
    "## Putting all the features together\n",
    "Using Polynomial Regression\n",
    "\n",
    "1. Create more features from all the features"
   ]
  },
  {
   "cell_type": "code",
   "execution_count": 177,
   "metadata": {},
   "outputs": [],
   "source": [
    "poly_features = PolynomialFeatures(degree=4)\n",
    "X_poly = poly_features.fit_transform(features)"
   ]
  },
  {
   "cell_type": "markdown",
   "metadata": {},
   "source": [
    "2. Split into train & test set"
   ]
  },
  {
   "cell_type": "code",
   "execution_count": 178,
   "metadata": {},
   "outputs": [],
   "source": [
    "y = diabetes_risks\n",
    "\n",
    "X_train, X_test, y_train, y_test = train_test_split(\n",
    "    X_poly, y,\n",
    "    test_size=0.3,\n",
    "    shuffle=True,\n",
    "    random_state=56\n",
    ")"
   ]
  },
  {
   "cell_type": "markdown",
   "metadata": {},
   "source": [
    "3. Train a Polynomial Regression Model"
   ]
  },
  {
   "cell_type": "code",
   "execution_count": 179,
   "metadata": {},
   "outputs": [
    {
     "data": {
      "text/plain": [
       "LinearRegression(copy_X=True, fit_intercept=True, n_jobs=None, normalize=False)"
      ]
     },
     "execution_count": 179,
     "metadata": {},
     "output_type": "execute_result"
    }
   ],
   "source": [
    "model = LinearRegression()\n",
    "model.fit(X_train, y_train)"
   ]
  },
  {
   "cell_type": "markdown",
   "metadata": {},
   "source": [
    "4. Get predictions from the model"
   ]
  },
  {
   "cell_type": "code",
   "execution_count": 180,
   "metadata": {},
   "outputs": [],
   "source": [
    "y_pred_train = model.predict(X_train)\n",
    "y_pred_test = model.predict(X_test)"
   ]
  },
  {
   "cell_type": "markdown",
   "metadata": {},
   "source": [
    "5. Evaluate the model"
   ]
  },
  {
   "cell_type": "code",
   "execution_count": 181,
   "metadata": {},
   "outputs": [
    {
     "name": "stdout",
     "output_type": "stream",
     "text": [
      "Train MSE: 1.3087743797793447e-22\n",
      "Test MSE: 73125.36589492924\n"
     ]
    }
   ],
   "source": [
    "mse_train = mean_squared_error(y_pred_train, y_train)\n",
    "mse_test = mean_squared_error(y_pred_test, y_test)\n",
    "\n",
    "print('Train MSE:', mse_train)\n",
    "print('Test MSE:', mse_test)"
   ]
  },
  {
   "cell_type": "markdown",
   "metadata": {},
   "source": [
    "6. Plot the learning curve"
   ]
  },
  {
   "cell_type": "code",
   "execution_count": 182,
   "metadata": {},
   "outputs": [
    {
     "name": "stdout",
     "output_type": "stream",
     "text": [
      "2551.0097010624813\n",
      "3050.426676367577\n"
     ]
    },
    {
     "data": {
      "text/plain": [
       "<matplotlib.legend.Legend at 0x544fbf0>"
      ]
     },
     "execution_count": 182,
     "metadata": {},
     "output_type": "execute_result"
    },
    {
     "data": {
      "image/png": "[encoded data removed]",
      "text/plain": [
       "<Figure size 432x288 with 1 Axes>"
      ]
     },
     "metadata": {
      "needs_background": "light"
     },
     "output_type": "display_data"
    }
   ],
   "source": [
    "train_scores = []\n",
    "test_scores = []\n",
    "\n",
    "for i in np.arange(0.1, 1.1, 0.1):\n",
    "    # 442 can be substituted for len(X_train)\n",
    "    train_size = int(442 * i)\n",
    "    X_train_new = X_train[:train_size]\n",
    "    y_train_new = y_train[:train_size]\n",
    "\n",
    "    model = Ridge(alpha=4e-3)\n",
    "    model.fit(X_train_new, y_train_new)\n",
    "    y_train_pred = model.predict(X_train_new)\n",
    "    y_test_pred = model.predict(X_test)\n",
    "    \n",
    "    train_mse = mean_squared_error(y_train_pred, y_train_new)\n",
    "    test_mse = mean_squared_error(y_test_pred, y_test)\n",
    "    \n",
    "    train_scores.append(train_mse)\n",
    "    test_scores.append(test_mse)\n",
    "\n",
    "print(train_scores[-1])\n",
    "print(test_scores[-1])\n",
    "    \n",
    "plt.plot(train_scores, label=\"Train Loss\")\n",
    "plt.plot(test_scores, label=\"Test Loss\")\n",
    "\n",
    "plt.ylabel('Mean Squared Error of Diabetes')\n",
    "plt.xlabel('% of Training Size')\n",
    "\n",
    "plt.xticks(range(10), (np.arange(0.1, 1.1, 0.1) * 100).astype(int))\n",
    "plt.legend()"
   ]
  },
  {
   "cell_type": "markdown",
   "metadata": {},
   "source": [
    "## Other Models\n",
    "#### Random Forest"
   ]
  },
  {
   "cell_type": "code",
   "execution_count": null,
   "metadata": {},
   "outputs": [],
   "source": []
  },
  {
   "cell_type": "code",
   "execution_count": null,
   "metadata": {},
   "outputs": [],
   "source": []
  },
  {
   "cell_type": "code",
   "execution_count": null,
   "metadata": {},
   "outputs": [],
   "source": []
  },
  {
   "cell_type": "code",
   "execution_count": null,
   "metadata": {},
   "outputs": [],
   "source": []
  }
 ],
 "metadata": {
  "kernelspec": {
   "display_name": "Python 3",
   "language": "python",
   "name": "python3"
  },
  "language_info": {
   "codemirror_mode": {
    "name": "ipython",
    "version": 3
   },
   "file_extension": ".py",
   "mimetype": "text/x-python",
   "name": "python",
   "nbconvert_exporter": "python",
   "pygments_lexer": "ipython3",
   "version": "3.6.7"
  }
 },
 "nbformat": 4,
 "nbformat_minor": 2
}
